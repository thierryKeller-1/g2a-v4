{
 "cells": [
  {
   "cell_type": "code",
   "execution_count": 33,
   "metadata": {},
   "outputs": [],
   "source": [
    "from datetime import datetime, timedelta\n",
    "import json"
   ]
  },
  {
   "cell_type": "code",
   "execution_count": 34,
   "metadata": {},
   "outputs": [],
   "source": [
    "start_date = \"09/03/2024\"\n",
    "end_date = \"30/03/2024\"\n",
    "dest_url_path = \"./04_03_2024/maeva_dest1_19_02.json\"\n",
    "output_path = \"./start/04_03_2024/\"\n",
    "name = \"dest_test.json\""
   ]
  },
  {
   "cell_type": "code",
   "execution_count": 35,
   "metadata": {},
   "outputs": [],
   "source": [
    "start_date = datetime.strptime(start_date, \"%d/%m/%Y\")\n",
    "end_date = datetime.strptime(end_date, \"%d/%m/%Y\")"
   ]
  },
  {
   "cell_type": "code",
   "execution_count": 36,
   "metadata": {},
   "outputs": [
    {
     "data": {
      "text/plain": [
       "468"
      ]
     },
     "execution_count": 36,
     "metadata": {},
     "output_type": "execute_result"
    }
   ],
   "source": [
    "urls = []\n",
    "with open(dest_url_path, 'r') as openfile:\n",
    "    urls = json.load(openfile)\n",
    "len(urls)"
   ]
  },
  {
   "cell_type": "code",
   "execution_count": 37,
   "metadata": {},
   "outputs": [],
   "source": [
    "formated_urls = []"
   ]
  },
  {
   "cell_type": "code",
   "execution_count": 38,
   "metadata": {},
   "outputs": [],
   "source": [
    "next_saturday = start_date\n",
    "while  next_saturday <= end_date:\n",
    "    date_debut = datetime.strftime(next_saturday, '%Y-%m-%d')\n",
    "    date_fin = datetime.strftime(\n",
    "        next_saturday + timedelta(days=6), '%Y-%m-%d')\n",
    "    for url in urls:\n",
    "        dest_id = url.split('_')[1].split('.')[0]\n",
    "        formated_urls.append(f\"{url}?date_debut={date_debut}&date_fin={date_fin}&residence_cle={dest_id}&formule=0&ordreSeo=prixAsc\")\n",
    "        next_saturday += timedelta(days=7)"
   ]
  },
  {
   "cell_type": "code",
   "execution_count": null,
   "metadata": {},
   "outputs": [],
   "source": [
    "formated_urls"
   ]
  },
  {
   "cell_type": "code",
   "execution_count": 40,
   "metadata": {},
   "outputs": [],
   "source": [
    "with open(f\"{output_path}{name}\", 'w') as openfile:\n",
    "    openfile.write(json.dumps(formated_urls, indent=4))"
   ]
  }
 ],
 "metadata": {
  "kernelspec": {
   "display_name": "Python 3",
   "language": "python",
   "name": "python3"
  },
  "language_info": {
   "codemirror_mode": {
    "name": "ipython",
    "version": 3
   },
   "file_extension": ".py",
   "mimetype": "text/x-python",
   "name": "python",
   "nbconvert_exporter": "python",
   "pygments_lexer": "ipython3",
   "version": "3.11.3"
  }
 },
 "nbformat": 4,
 "nbformat_minor": 2
}
